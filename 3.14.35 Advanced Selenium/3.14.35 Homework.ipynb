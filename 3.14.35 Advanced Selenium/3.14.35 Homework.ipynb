{
 "cells": [
  {
   "cell_type": "markdown",
   "id": "fb4d8965-8cd5-40de-892d-af4ecc2afc66",
   "metadata": {},
   "source": [
    "# 3.14.35 Homework"
   ]
  },
  {
   "cell_type": "code",
   "execution_count": 1,
   "id": "e882a32e-7881-4879-9a03-8b780c1acb57",
   "metadata": {},
   "outputs": [],
   "source": [
    "# Import the needed libraries"
   ]
  },
  {
   "cell_type": "code",
   "execution_count": 2,
   "id": "e2e452d8-cc0f-4830-a882-cc777ff712fc",
   "metadata": {},
   "outputs": [],
   "source": [
    "from selenium import webdriver\n",
    "from selenium.webdriver.common.by import By\n",
    "import pandas as pd\n",
    "from selenium.webdriver.chrome.service import Service\n",
    "import os"
   ]
  },
  {
   "cell_type": "markdown",
   "id": "8a02d99c-4945-4a79-92fe-962221887f75",
   "metadata": {},
   "source": [
    "### Standard Exercises"
   ]
  },
  {
   "cell_type": "markdown",
   "id": "b7023ff9-64c5-431d-b3d0-3aa1f581c0b4",
   "metadata": {},
   "source": [
    "In the class today we saw how we could paginate through multiple pages of results to extract data from a website. The below code is the initial set for navigating to this page as well as the two functions we've written, `create_col` and `scrape_page`"
   ]
  },
  {
   "cell_type": "code",
   "execution_count": null,
   "id": "be881054-cd68-44fa-ba85-a774bdbefcfa",
   "metadata": {},
   "outputs": [],
   "source": [
    "### DRIVER SETUP\n",
    "\n",
    "# initialise the driver (and open up a browser window)\n",
    "driver = webdriver.Chrome()\n",
    "\n",
    "# open up a specific web page\n",
    "driver.get(\"https://www.scrapethissite.com/pages/forms/\")\n",
    "\n",
    "\n",
    "### DEFINE FUNCTION FOR COLUMN LIST CREATION\n",
    "\n",
    "# since we will need to repeat this process for other 5 variables, \n",
    "# let's create a function\n",
    "def create_col(class_name):\n",
    "    s_column = driver.find_elements(By.CLASS_NAME, class_name)\n",
    "    column = [col.text for col in s_column]\n",
    "    return column\n",
    "\n",
    "### DEFINE FUNCTION FOR PAGE SCRAPING\n",
    "\n",
    "def scrape_page(page):\n",
    "    # click on first page\n",
    "    driver.find_element(By.LINK_TEXT, str(page)).click()\n",
    "    \n",
    "    # create a list for each column of the table\n",
    "    names = create_col('name')\n",
    "    year = create_col('year')\n",
    "    wins = create_col('wins')\n",
    "    losses = create_col('losses')\n",
    "    goals_for = create_col('gf')\n",
    "    goals_against = create_col('ga')\n",
    "    \n",
    "    # create a temporary DataFrame to store the current page\n",
    "    df_teams_tmp = pd.DataFrame(\n",
    "        {'names': names, \n",
    "         'year': year,\n",
    "         'wins': wins, \n",
    "         'losses': losses, \n",
    "         'goals_for': goals_for, \n",
    "         'goals_against': goals_against\n",
    "         })\n",
    "    \n",
    "    return df_teams_tmp"
   ]
  },
  {
   "cell_type": "markdown",
   "id": "6d0a3ecc-e1bb-428f-934f-8dcb657b9f20",
   "metadata": {},
   "source": [
    "1. Using selenium, write a script that will use the search bar on the webpage to search for one of the available hockey teams and then scrape the data for that team. For this you'll need to use some selenium functions (and do some additional selenium imports) that we haven't seen together in class. Make use of the selenium documentation or stack overflow to find how to send key strokes to the browser via selenium"
   ]
  },
  {
   "cell_type": "code",
   "execution_count": 3,
   "id": "ff531a0e-3b61-4ef1-a1f5-fe9fbe2f31d7",
   "metadata": {},
   "outputs": [],
   "source": [
    "# Code goes here"
   ]
  },
  {
   "cell_type": "markdown",
   "id": "0f7b34cf-148a-498e-9cde-eceed72b3dc4",
   "metadata": {},
   "source": [
    "2. Check the data types for each column in your dataframe. If they're not the correct type make sure to change them"
   ]
  },
  {
   "cell_type": "code",
   "execution_count": null,
   "id": "3002f239-843a-480e-8657-8b994d3ac078",
   "metadata": {},
   "outputs": [],
   "source": []
  },
  {
   "cell_type": "markdown",
   "id": "107f1b14-21f2-45fd-8a9a-24dca2800632",
   "metadata": {},
   "source": [
    "3. For your selected team, what was the average number of goals they scored?"
   ]
  },
  {
   "cell_type": "code",
   "execution_count": null,
   "id": "4325f43c-0b46-4066-bdf6-2d7e89370258",
   "metadata": {},
   "outputs": [],
   "source": []
  },
  {
   "cell_type": "markdown",
   "id": "c2da85b3-b74a-43a7-b13f-2cd1736d7c4d",
   "metadata": {},
   "source": [
    "4. Plot the number of wins your team had each year on a line chart. Is there any interesting insights (e.g., any good or bad years for your team)?"
   ]
  },
  {
   "cell_type": "code",
   "execution_count": null,
   "id": "9145465e-cbcc-4b17-adb5-d8bc8a2a9da7",
   "metadata": {},
   "outputs": [],
   "source": []
  },
  {
   "cell_type": "markdown",
   "id": "2c19932c-0236-44d8-95a8-a8b4664d4790",
   "metadata": {},
   "source": [
    "### Advanced Exercise"
   ]
  },
  {
   "cell_type": "markdown",
   "id": "05901a50-8b54-4121-b262-da348e00584b",
   "metadata": {},
   "source": [
    "You'll also notice that on the webpage there is the ability to change the number of search results shown on the page. Write a script that will scrape all of the data from this webpage (i.e, data for all teams, not just the one you searched from the standard exercises) but does so by changing the number of results per page from 25 to 100. Again, you'll need to do some of your own research to see how we can toggle the number of results button."
   ]
  },
  {
   "cell_type": "code",
   "execution_count": null,
   "id": "549299a3-a2b3-4757-a40f-3250037a006e",
   "metadata": {},
   "outputs": [],
   "source": []
  }
 ],
 "metadata": {
  "kernelspec": {
   "display_name": "Python 3 (ipykernel)",
   "language": "python",
   "name": "python3"
  },
  "language_info": {
   "codemirror_mode": {
    "name": "ipython",
    "version": 3
   },
   "file_extension": ".py",
   "mimetype": "text/x-python",
   "name": "python",
   "nbconvert_exporter": "python",
   "pygments_lexer": "ipython3",
   "version": "3.9.16"
  }
 },
 "nbformat": 4,
 "nbformat_minor": 5
}
